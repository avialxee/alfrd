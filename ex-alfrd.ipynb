{
 "cells": [
  {
   "cell_type": "code",
   "execution_count": 2,
   "metadata": {},
   "outputs": [],
   "source": [
    "from alfrd.lib import GSC, LogFrame\n",
    "from alfrd.util import timeinmin, read_inputfile\n",
    "from pathlib import Path\n",
    "import time, subprocess\n",
    "import glob"
   ]
  },
  {
   "cell_type": "markdown",
   "metadata": {},
   "source": [
    "### Example 1 : Initializing and creating instance"
   ]
  },
  {
   "cell_type": "code",
   "execution_count": 3,
   "metadata": {},
   "outputs": [
    {
     "name": "stdout",
     "output_type": "stream",
     "text": [
      "\u001b[32mSuccess!\u001b[0m\n"
     ]
    }
   ],
   "source": [
    "url='https://docs.google.com/spreadsheets/d/1gywTLuGxkTfX-nIwUHynR4wvLNv-NOwJeykqw0ThPT0/edit#gid=0'\n",
    "worksheet='main'\n",
    "gsc = GSC(url=url, wname=worksheet, key='path/to/json/file')      # default path for key = home/usr/.alfred\n",
    "_ = gsc.open()                               "
   ]
  },
  {
   "cell_type": "code",
   "execution_count": 13,
   "metadata": {},
   "outputs": [
    {
     "name": "stdout",
     "output_type": "stream",
     "text": [
      "\u001b[32mSuccess!\u001b[0m\n"
     ]
    }
   ],
   "source": [
    "wid = 0                                                                         #   (default)\n",
    "gsc = GSC(sid='1gyadsuadsTfX-adsUHynR4wvLNv-NOadsykqw0ThREW', wid=wid)          #   either give the url or the spreadsheet id\n",
    "_ = gsc.open()"
   ]
  },
  {
   "cell_type": "markdown",
   "metadata": {},
   "source": [
    "### Example 2: Inititalize the framework"
   ]
  },
  {
   "cell_type": "code",
   "execution_count": 4,
   "metadata": {},
   "outputs": [],
   "source": [
    "lf = LogFrame(gsc)\n",
    "lf.primary_colname          =   'FILE_NAME'"
   ]
  },
  {
   "cell_type": "markdown",
   "metadata": {},
   "source": [
    "### Example 3: Run - Iterate for each row"
   ]
  },
  {
   "cell_type": "code",
   "execution_count": 5,
   "metadata": {},
   "outputs": [],
   "source": [
    "count,failed=0,0\n",
    "allfiles=[]\n",
    "folder_for_fits ='path/to/allfits'\n",
    "\n",
    "allfiles.extend(glob.glob(f\"{folder_for_fits}*/*fits\"))\n",
    "\n",
    "for fitsfile in allfiles:\n",
    "    fitsfile_name = Path(fitsfile).name\n",
    "    lf.primary_value            =   fitsfile_name"
   ]
  },
  {
   "cell_type": "markdown",
   "metadata": {},
   "source": [
    "### Example 4: using column logic and adding values on success/failures"
   ]
  },
  {
   "cell_type": "code",
   "execution_count": 6,
   "metadata": {},
   "outputs": [
    {
     "name": "stdout",
     "output_type": "stream",
     "text": [
      "test\n",
      "test\n"
     ]
    }
   ],
   "source": [
    "if lf.isvalue(value='True', colname='TSYS') and lf.isval_unique('Project'):\n",
    "    \n",
    "    lf.working_col          =   'Comment1'                                          # working column\n",
    "    print(lf.get_value())\n",
    "\n",
    "    result                  =   'test'\n",
    "    if result :\n",
    "        count               =   lf.put_value(result, count=count)                   \n",
    "    else:\n",
    "        failed              =   lf.put_value('failed: logfile_path', count=failed)\n",
    "    \n",
    "    print(lf.get_value())"
   ]
  },
  {
   "cell_type": "markdown",
   "metadata": {},
   "source": [
    "### Example 5: Script execution"
   ]
  },
  {
   "cell_type": "code",
   "execution_count": 7,
   "metadata": {},
   "outputs": [
    {
     "name": "stdout",
     "output_type": "stream",
     "text": [
      "input folder missing..\n",
      "failed\n"
     ]
    }
   ],
   "source": [
    "def run_picard(cmd):\n",
    "    t0 = time.time()\n",
    "    subprocess.run(cmd)\n",
    "    t1 = time.time()\n",
    "    td = timeinmin(t1-t0)\n",
    "    return td\n",
    "\n",
    "def scripted_picard_1(wd_ifolder, count, failed, col='fits to ms'):\n",
    "    \"\"\"\n",
    "    converts fitsfile to ms file; checks if conversion was successful; skips if file exists; logs in the spreadsheet;\n",
    "    \"\"\"\n",
    "    td=0\n",
    "    cmd=[\"picard\",'-n','10',\"-l\",\"e\",'--input',wd_ifolder]\n",
    "       \n",
    "    params, files, input_folder = read_inputfile(wd_ifolder, \"observation.inp\")\n",
    "    \n",
    "    if not Path(f\"{wd_ifolder}\").exists():\n",
    "        print('input folder missing..')\n",
    "    elif not Path(f\"{wd_ifolder}/../{params['ms_name']}\").exists():\n",
    "        td          =   run_picard(cmd)\n",
    "        count       =   lf.put_value(colname=col, value=td, count=count)\n",
    "    elif Path(f\"{wd_ifolder}/../{params['ms_name']}\").exists():\n",
    "        print('skipped')\n",
    "\n",
    "    if not Path(f\"{wd_ifolder}/../{params['ms_name']}\").exists():\n",
    "        count-=1\n",
    "        failed      =   lf.put_value(colname=col, value='failed',count=failed)\n",
    "    return td, count, failed\n",
    "\n",
    "if lf.isvalue(value='True', colname='TSYS') and lf.isval_unique('Project'):\n",
    "    lf.working_col          =   'Comment1'\n",
    "    ttaken, count, failed   =   scripted_picard_1(wd_ifolder='path/to/wd/input_template', count=count, failed=failed )\n",
    "\n",
    "print(lf.get_value(colname='fits to ms'))"
   ]
  },
  {
   "cell_type": "markdown",
   "metadata": {},
   "source": [
    "### Example 6: Update the sheet"
   ]
  },
  {
   "cell_type": "code",
   "execution_count": 14,
   "metadata": {},
   "outputs": [
    {
     "name": "stdout",
     "output_type": "stream",
     "text": [
      "\u001b[32mUpdated!\u001b[0m\n"
     ]
    }
   ],
   "source": [
    "lf.update_sheet(count=count, failed=failed, csvfile='df_sheet.csv')                     # if updating the sheet fails, a copy of the dataframe is saved locally at the csvfile path."
   ]
  },
  {
   "cell_type": "code",
   "execution_count": null,
   "metadata": {},
   "outputs": [],
   "source": [
    "# can also update from a dataframe object/ by reading from a csv file\n",
    "from pandas import read_csv\n",
    "lf.df_sheet = read_csv('df_sheet.csv')"
   ]
  },
  {
   "cell_type": "markdown",
   "metadata": {},
   "source": [
    "### Example 7: Conditional Formatting\n",
    "\n",
    "need to run only once."
   ]
  },
  {
   "cell_type": "code",
   "execution_count": 8,
   "metadata": {},
   "outputs": [
    {
     "name": "stdout",
     "output_type": "stream",
     "text": [
      "ranges=[<GridRange sheetId=0;startRowIndex=1;endRowIndex=105;startColumnIndex=6;endColumnIndex=7>];booleanRule=(condition=(type=TEXT_CONTAINS;values=[<ConditionValue userEnteredValue=False>]);format=(backgroundColor=(red=0.8784314;green=0.4;blue=0.4))) ranges=[<GridRange sheetId=0;startRowIndex=1;endRowIndex=105;startColumnIndex=6;endColumnIndex=7>];booleanRule=(condition=(type=TEXT_CONTAINS;values=[<ConditionValue userEnteredValue=True>]);format=(backgroundColor=(red=0.56;green=0.77;blue=0.49))) ranges=[<GridRange sheetId=0;startRowIndex=1;endRowIndex=105;startColumnIndex=5;endColumnIndex=6>];booleanRule=(condition=(type=CUSTOM_FORMULA;values=[<ConditionValue userEnteredValue==AND(ISNUMBER(SEARCH(\"m\", F2:F105)), ISNUMBER(SEARCH(\"s\", F2:F105)))>]);format=(backgroundColor=(red=0.56;green=0.77;blue=0.49))) ranges=[<GridRange sheetId=0;startRowIndex=1;endRowIndex=105;startColumnIndex=5;endColumnIndex=6>];booleanRule=(condition=(type=TEXT_CONTAINS;values=[<ConditionValue userEnteredValue=fail>]);format=(backgroundColor=(red=0.8784314;green=0.4;blue=0.4)))\n"
     ]
    }
   ],
   "source": [
    "r1 = lf.create_rule(range='G2:G105', type='TEXT_CONTAINS' ,value='False', c='r')               # check if TSYS == False --> background color = red\n",
    "r2 = lf.create_rule(range='G2:G105', type=\"TEXT_CONTAINS\", value='True', custom_clr=lf.create_color(0.56, 0.77, 0.49))\n",
    "r3 = lf.create_conditional_format(range='F2:F105', c='g', valtype='timeinmin')              # check if value in XXmYYs format --> background color = green\n",
    "\n",
    "r4 = lf.create_conditional_format(range='F2:F105', c='r', valtype='fail')                   # check if value contains fail --> background color = red\n",
    "r4 = lf.create_rule(range='F2:F105', type='TEXT_CONTAINS', c='r', value='fail')                # similar to above\n",
    "print(r1,r2,r3,r4)\n",
    "lf.add_conditional_format(r1, r2, r3, r4)"
   ]
  }
 ],
 "metadata": {
  "kernelspec": {
   "display_name": "casapy38",
   "language": "python",
   "name": "casapy38"
  },
  "language_info": {
   "codemirror_mode": {
    "name": "ipython",
    "version": 3
   },
   "file_extension": ".py",
   "mimetype": "text/x-python",
   "name": "python",
   "nbconvert_exporter": "python",
   "pygments_lexer": "ipython3",
   "version": "3.8.16"
  }
 },
 "nbformat": 4,
 "nbformat_minor": 2
}
